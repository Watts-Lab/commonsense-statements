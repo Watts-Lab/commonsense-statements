{
 "cells": [
  {
   "cell_type": "code",
   "execution_count": 189,
   "metadata": {},
   "outputs": [],
   "source": [
    "import json\n",
    "import pandas as pd\n",
    "from openai import OpenAI\n",
    "from dotenv import load_dotenv\n",
    "from time import sleep\n",
    "import random\n",
    "\n",
    "\n",
    "load_dotenv()\n",
    "\n",
    "client = OpenAI()"
   ]
  },
  {
   "cell_type": "code",
   "execution_count": 190,
   "metadata": {},
   "outputs": [],
   "source": [
    "epistimalogical_features = {\n",
    "    \"behavior\": {\n",
    "        \"Social\": {\n",
    "            \"Description\": \"Refers to beliefs, perceptions, preferences, and socially constructed rules that govern human experience; can be 'real' or opinion, but is intrinsically of human origins.\",\n",
    "            \"Examples\": [\n",
    "                \"I exist and am the same person I was yesterday.\",\n",
    "                \"He yelled at me because he was angry.\",\n",
    "                \"There are seven days in the week.\",\n",
    "            ],\n",
    "        },\n",
    "        \"Physical\": {\n",
    "            \"Description\": \"Refers to objective features of the world as described by physics, biology, engineering, mathematics, or other natural rules; can be measured empirically or derived logically.\",\n",
    "            \"Examples\": [\n",
    "                \"Men on average are taller than women.\",\n",
    "                \"The Earth is the third planet from the Sun.\",\n",
    "                \"Ants are smaller than elephants.\",\n",
    "            ],\n",
    "        },\n",
    "    },\n",
    "    \"everyday\": {\n",
    "        \"Everyday\": {\n",
    "            \"Description\": \"People encounter, or could encounter, situations like this in the course of their ordinary, everyday experiences.\",\n",
    "            \"Examples\": [\n",
    "                \"Touching a hot stove will burn you.\",\n",
    "                \"Commuting at rush hour takes longer.\",\n",
    "                \"It is rude to jump the line.\",\n",
    "            ],\n",
    "        },\n",
    "        \"Abstract\": {\n",
    "            \"Description\": \"Refers to regularities or conclusions that cannot be observed or arrived at solely through individual experience.\",\n",
    "            \"Examples\": [\n",
    "                \"Capitalism is a better economic system than Communism.\",\n",
    "                \"Strict gun laws save lives.\",\n",
    "                \"God exists.\",\n",
    "            ],\n",
    "        },\n",
    "    },\n",
    "    \"figure of speech\": {\n",
    "        \"Figure of Speech\": {\n",
    "            \"Description\": \"Contains an aphorism, metaphor, hyperbole.\",\n",
    "            \"Examples\": [\n",
    "                \"Birds of a feather flock together.\",\n",
    "                \"A friend to all is a friend to none.\",\n",
    "            ],\n",
    "        },\n",
    "        \"Literal Language\": {\n",
    "            \"Description\": \"Plain and ordinary language that means exactly what it says.\",\n",
    "            \"Examples\": [\n",
    "                \"The sky is blue.\",\n",
    "                \"Elephants are larger than dogs.\",\n",
    "                \"Abraham Lincoln was a great president.\",\n",
    "            ],\n",
    "        },\n",
    "    },\n",
    "    \"judgment\": {\n",
    "        \"Normative\": {\n",
    "            \"Description\": \"Refers to a judgment, belief, value, social norm or convention.\",\n",
    "            \"Examples\": [\n",
    "                \"If you are going to the office, you should wear business attire, not a bathing suit.\",\n",
    "                \"Treat others how you want them to treat you.\",\n",
    "                \"Freedom is a fundamental human right.\",\n",
    "            ],\n",
    "        },\n",
    "        \"Positive\": {\n",
    "            \"Description\": \"Refers to something in the world such as an empirical regularity or scientific law.\",\n",
    "            \"Examples\": [\n",
    "                \"Hot things will burn you.\",\n",
    "                \"The sun rises in the east and sets in the west.\",\n",
    "            ],\n",
    "        },\n",
    "    },\n",
    "    \"opinion\": {\n",
    "        \"Opinion\": {\n",
    "            \"Description\": \"Something that someone might think is true, or wants others to think is true, but can’t be demonstrated to be objectively correct or incorrect; it is inherently subjective.\",\n",
    "            \"Examples\": [\n",
    "                \"FDR was the greatest US president of the 20th Century.\",\n",
    "                \"The Brooklyn Bridge is prettier than the Golden Gate.\",\n",
    "                \"Vaccine mandates are a tolerable imposition on individual freedom.\",\n",
    "            ],\n",
    "        },\n",
    "        \"Factual\": {\n",
    "            \"Description\": \"Something that can be demonstrated to be correct or incorrect, independently of anyone’s opinion.\",\n",
    "            \"Examples\": [\n",
    "                \"The earth is the third planet from the sun.\",\n",
    "                \"Obama was the 24th president of the United States.\",\n",
    "                \"It will be sunny next Tuesday.\",\n",
    "            ],\n",
    "        },\n",
    "    },\n",
    "    \"reasoning\": {\n",
    "        \"Knowledge\": {\n",
    "            \"Description\": \"The claim refers to some observation about the world; it may be true or false, opinion or fact, subjective or objective.\",\n",
    "            \"Examples\": [\n",
    "                \"The sun rises in the east and sets in the west.\",\n",
    "                \"Dogs are nicer than cats.\",\n",
    "                \"Glasses break when they are dropped.\",\n",
    "            ],\n",
    "        },\n",
    "        \"Reasoning\": {\n",
    "            \"Description\": \"The claim presents a conclusion that is arrived at by combining knowledge and logic.\",\n",
    "            \"Examples\": [\n",
    "                \"The sun is in the east, therefore it is morning.\",\n",
    "                \"My dog is wagging its tail, therefore it is happy.\",\n",
    "                \"The glass fell off the table, therefore it will break and the floor will become wet.\",\n",
    "            ],\n",
    "        },\n",
    "    },\n",
    "}"
   ]
  },
  {
   "cell_type": "code",
   "execution_count": 195,
   "metadata": {},
   "outputs": [],
   "source": [
    "design_point = {\n",
    "    \"behavior\": \"Social\",\n",
    "    \"everyday\": \"Everyday\",\n",
    "    \"figure of speech\": \"Figure of Speech\",\n",
    "    \"judgment\": \"Normative\",\n",
    "    \"opinion\": \"Opinion\",\n",
    "    \"reasoning\": \"Knowledge\",\n",
    "}"
   ]
  },
  {
   "cell_type": "code",
   "execution_count": 196,
   "metadata": {},
   "outputs": [],
   "source": [
    "wikipedia_categories = [\n",
    "    \"General reference\",\n",
    "    \"Culture and the arts\",\n",
    "    \"Geography and places\",\n",
    "    \"Health and fitness\",\n",
    "    \"History and events\",\n",
    "    \"Human activities\",\n",
    "    \"Mathematics and logic\",\n",
    "    \"Natural and physical sciences\",\n",
    "    \"People and self\",\n",
    "    \"Philosophy and thinking\",\n",
    "    \"Religion and belief systems\",\n",
    "    \"Society and social sciences\",\n",
    "    \"Technology and applied sciences\",\n",
    "]"
   ]
  },
  {
   "cell_type": "code",
   "execution_count": 198,
   "metadata": {},
   "outputs": [
    {
     "name": "stdout",
     "output_type": "stream",
     "text": [
      "Give me the all statements that best belong to the following: \n",
      " In the category \"General reference\" with epistimalogical features \n",
      "\n",
      "'behavior' is 'Social' meaning Refers to beliefs, perceptions, preferences, and socially constructed rules that govern human experience; can be 'real' or opinion, but is intrinsically of human origins.\n",
      "'everyday' is 'Everyday' meaning People encounter, or could encounter, situations like this in the course of their ordinary, everyday experiences.\n",
      "'figure of speech' is 'Figure of Speech' meaning Contains an aphorism, metaphor, hyperbole.\n",
      "'judgment' is 'Normative' meaning Refers to a judgment, belief, value, social norm or convention.\n",
      "'opinion' is 'Opinion' meaning Something that someone might think is true, or wants others to think is true, but can’t be demonstrated to be objectively correct or incorrect; it is inherently subjective.\n",
      "'reasoning' is 'Knowledge' meaning The claim refers to some observation about the world; it may be true or false, opinion or fact, subjective or objective.\n"
     ]
    }
   ],
   "source": [
    "prompt = f'Give me the all statements that best belong to the following general category \"{wikipedia_categories[0]}\" with epistimalogical features \\n'\n",
    "\n",
    "for key in epistimalogical_features.keys():\n",
    "    sub_key = design_point[key]\n",
    "    prompt += f\"\\n'{key}' is '{sub_key}' meaning {epistimalogical_features[key][sub_key]['Description']}\"\n",
    "\n",
    "print(prompt)"
   ]
  },
  {
   "cell_type": "code",
   "execution_count": 199,
   "metadata": {},
   "outputs": [
    {
     "name": "stdout",
     "output_type": "stream",
     "text": [
      "ChatCompletionMessage(content='{\\n  \"statements\": [\\n    \"Actions speak louder than words.\",\\n    \"Beauty is in the eye of the beholder.\",\\n    \"Birds of a feather flock together.\",\\n    \"Money can\\'t buy happiness.\",\\n    \"Laughter is the best medicine.\",\\n    \"Time heals all wounds.\",\\n    \"The early bird catches the worm.\",\\n    \"Two heads are better than one.\",\\n    \"When in Rome, do as the Romans do.\",\\n    \"Every cloud has a silver lining.\",\\n    \"Actions have consequences.\",\\n    \"The pen is mightier than the sword.\",\\n    \"Absence makes the heart grow fonder.\",\\n    \"Practice makes perfect.\",\\n    \"You can\\'t judge a book by its cover.\",\\n    \"A picture is worth a thousand words.\",\\n    \"Honesty is the best policy.\",\\n    \"The grass is always greener on the other side.\",\\n    \"Better late than never.\",\\n    \"Love makes the world go round.\",\\n    \"You reap what you sow.\",\\n    \"The squeaky wheel gets the grease.\",\\n    \"You can’t have your cake and eat it too.\",\\n    \"Good things come to those who wait.\",\\n    \"Beauty is only skin deep.\",\\n    \"What doesn’t kill you makes you stronger.\",\\n    \"You can lead a horse to water, but you can’t make it drink.\",\\n    \"It takes two to tango.\",\\n    \"The best things in life are free.\",\\n    \"A watched pot never boils.\",\\n    \"Fortune favors the bold.\",\\n    \"Birds of a feather flock together.\",\\n    \"You are what you eat.\",\\n    \"Every rose has its thorn.\",\\n    \"You can’t teach an old dog new tricks.\",\\n    \"The apple doesn’t fall far from the tree.\",\\n    \"Good fences make good neighbors.\",\\n    \"The early bird catches the worm.\",\\n    \"A rolling stone gathers no moss.\",\\n    \"An apple a day keeps the doctor away.\",\\n    \"Ignorance is bliss.\",\\n    \"All that glitters is not gold.\",\\n    \"The best is yet to come.\",\\n    \"A good friend is hard to find.\",\\n    \"You can’t please everyone.\",\\n    \"Rome wasn’t built in a day.\",\\n    \"Time is money.\",\\n    \"Actions speak louder than words.\",\\n    \"The customer is always right.\",\\n    \"It’s better to give than to receive.\",\\n    \"The best defense is a good offense.\",\\n    \"Home is where the heart is.\",\\n    \"It’s better to be safe than sorry.\",\\n    \"You can’t make an omelet without breaking a few eggs.\",\\n    \"The grass is always greener on the other side.\",\\n    \"No man is an island.\",\\n    \"The apple doesn’t fall far from the tree.\",\\n    \"Actions speak louder than words.\",\\n    \"What goes around, comes around.\",\\n    \"Practice makes perfect.\",\\n    \"A picture is worth a thousand words.\",\\n    \"Absence makes the heart grow fonder.\",\\n    \"A watched pot never boils.\",\\n    \"A friend in need is a friend indeed.\",\\n    \"Two heads are better than one.\",\\n    \"The best defense is a good offense.\",\\n    \"A bird in the hand is worth two in the bush.\",\\n    \"Honesty is the best policy.\",\\n    \"Don’t count your chickens before they hatch.\",\\n    \"You can’t judge a book by its cover.\",\\n    \"The grass is always greener on the other side.\",\\n    \"Better late than never.\",\\n    \"Good fences make good neighbors.\",\\n    \"The early bird catches the worm.\",\\n    \"A rolling stone gathers no moss.\",\\n    \"An apple a day keeps the doctor away.\",\\n    \"Ignorance is bliss.\",\\n    \"All that glitters is not gold.\",\\n    \"Actions speak louder than words.\",\\n    \"Every cloud has a silver lining.\",\\n    \"You can’t make an omelet without breaking a few eggs.\",\\n    \"Home is where the heart is.\",\\n    \"It’s better to be safe than sorry.\",\\n    \"Absence makes the heart grow fonder.\",\\n    \"Laughter is the best medicine.\",\\n    \"Time heals all wounds.\",\\n    \"The pen is mightier than the sword.\",\\n    \"Love makes the world go round.\",\\n    \"You can’t please everyone.\",\\n    \"Rome wasn’t built in a day.\",\\n    \"Time is money.\",\\n    \"Actions speak louder than words.\",\\n    \"The customer is always right.\"\\n  ]\\n}', refusal=None, role='assistant', function_call=None, tool_calls=None)\n"
     ]
    }
   ],
   "source": [
    "completion = client.chat.completions.create(\n",
    "    model=\"gpt-4o\",\n",
    "    messages=[\n",
    "        {\n",
    "            \"role\": \"system\",\n",
    "            \"content\": \"Write 100 short common sense claims that are open to different interpretations and has all the properties mentioned below. Do not explain the result, just provide a single short claim in a JSON list under the key 'statements'.\",\n",
    "        },\n",
    "        {\"role\": \"user\", \"content\": prompt},\n",
    "    ],\n",
    "    response_format={\"type\": \"json_object\"},\n",
    "    presence_penalty=-1,\n",
    ")\n",
    "\n",
    "print(completion.choices[0].message)"
   ]
  },
  {
   "cell_type": "code",
   "execution_count": 200,
   "metadata": {},
   "outputs": [
    {
     "data": {
      "text/plain": [
       "{'statements': ['Actions speak louder than words.',\n",
       "  'Beauty is in the eye of the beholder.',\n",
       "  'Birds of a feather flock together.',\n",
       "  \"Money can't buy happiness.\",\n",
       "  'Laughter is the best medicine.',\n",
       "  'Time heals all wounds.',\n",
       "  'The early bird catches the worm.',\n",
       "  'Two heads are better than one.',\n",
       "  'When in Rome, do as the Romans do.',\n",
       "  'Every cloud has a silver lining.',\n",
       "  'Actions have consequences.',\n",
       "  'The pen is mightier than the sword.',\n",
       "  'Absence makes the heart grow fonder.',\n",
       "  'Practice makes perfect.',\n",
       "  \"You can't judge a book by its cover.\",\n",
       "  'A picture is worth a thousand words.',\n",
       "  'Honesty is the best policy.',\n",
       "  'The grass is always greener on the other side.',\n",
       "  'Better late than never.',\n",
       "  'Love makes the world go round.',\n",
       "  'You reap what you sow.',\n",
       "  'The squeaky wheel gets the grease.',\n",
       "  'You can’t have your cake and eat it too.',\n",
       "  'Good things come to those who wait.',\n",
       "  'Beauty is only skin deep.',\n",
       "  'What doesn’t kill you makes you stronger.',\n",
       "  'You can lead a horse to water, but you can’t make it drink.',\n",
       "  'It takes two to tango.',\n",
       "  'The best things in life are free.',\n",
       "  'A watched pot never boils.',\n",
       "  'Fortune favors the bold.',\n",
       "  'Birds of a feather flock together.',\n",
       "  'You are what you eat.',\n",
       "  'Every rose has its thorn.',\n",
       "  'You can’t teach an old dog new tricks.',\n",
       "  'The apple doesn’t fall far from the tree.',\n",
       "  'Good fences make good neighbors.',\n",
       "  'The early bird catches the worm.',\n",
       "  'A rolling stone gathers no moss.',\n",
       "  'An apple a day keeps the doctor away.',\n",
       "  'Ignorance is bliss.',\n",
       "  'All that glitters is not gold.',\n",
       "  'The best is yet to come.',\n",
       "  'A good friend is hard to find.',\n",
       "  'You can’t please everyone.',\n",
       "  'Rome wasn’t built in a day.',\n",
       "  'Time is money.',\n",
       "  'Actions speak louder than words.',\n",
       "  'The customer is always right.',\n",
       "  'It’s better to give than to receive.',\n",
       "  'The best defense is a good offense.',\n",
       "  'Home is where the heart is.',\n",
       "  'It’s better to be safe than sorry.',\n",
       "  'You can’t make an omelet without breaking a few eggs.',\n",
       "  'The grass is always greener on the other side.',\n",
       "  'No man is an island.',\n",
       "  'The apple doesn’t fall far from the tree.',\n",
       "  'Actions speak louder than words.',\n",
       "  'What goes around, comes around.',\n",
       "  'Practice makes perfect.',\n",
       "  'A picture is worth a thousand words.',\n",
       "  'Absence makes the heart grow fonder.',\n",
       "  'A watched pot never boils.',\n",
       "  'A friend in need is a friend indeed.',\n",
       "  'Two heads are better than one.',\n",
       "  'The best defense is a good offense.',\n",
       "  'A bird in the hand is worth two in the bush.',\n",
       "  'Honesty is the best policy.',\n",
       "  'Don’t count your chickens before they hatch.',\n",
       "  'You can’t judge a book by its cover.',\n",
       "  'The grass is always greener on the other side.',\n",
       "  'Better late than never.',\n",
       "  'Good fences make good neighbors.',\n",
       "  'The early bird catches the worm.',\n",
       "  'A rolling stone gathers no moss.',\n",
       "  'An apple a day keeps the doctor away.',\n",
       "  'Ignorance is bliss.',\n",
       "  'All that glitters is not gold.',\n",
       "  'Actions speak louder than words.',\n",
       "  'Every cloud has a silver lining.',\n",
       "  'You can’t make an omelet without breaking a few eggs.',\n",
       "  'Home is where the heart is.',\n",
       "  'It’s better to be safe than sorry.',\n",
       "  'Absence makes the heart grow fonder.',\n",
       "  'Laughter is the best medicine.',\n",
       "  'Time heals all wounds.',\n",
       "  'The pen is mightier than the sword.',\n",
       "  'Love makes the world go round.',\n",
       "  'You can’t please everyone.',\n",
       "  'Rome wasn’t built in a day.',\n",
       "  'Time is money.',\n",
       "  'Actions speak louder than words.',\n",
       "  'The customer is always right.']}"
      ]
     },
     "execution_count": 200,
     "metadata": {},
     "output_type": "execute_result"
    }
   ],
   "source": [
    "json.loads(completion.choices[0].message.content)"
   ]
  },
  {
   "cell_type": "markdown",
   "metadata": {},
   "source": [
    "## Create batch statement generation job"
   ]
  },
  {
   "cell_type": "code",
   "execution_count": 201,
   "metadata": {},
   "outputs": [],
   "source": [
    "def get_dict(id, prompt):\n",
    "    return {\n",
    "        \"custom_id\": f\"request-{id}\",\n",
    "        \"method\": \"POST\",\n",
    "        \"url\": \"/v1/chat/completions\",\n",
    "        \"body\": {\n",
    "            \"model\": \"gpt-4o\",\n",
    "            \"messages\": [\n",
    "                {\n",
    "                    \"role\": \"system\",\n",
    "                    # \"content\": \"Write 100 short common sense claim that has all of the following properties. Do not explain the result, just provide a single short claim in a JSON list.\",\n",
    "                    \"content\": \"Write 100 short common sense claims that are open to different interpretations and has all the properties mentioned below. Do not explain the result, just provide a single short claim in a JSON list under the key 'statements'.\",\n",
    "                },\n",
    "                {\"role\": \"user\", \"content\": prompt},\n",
    "            ],\n",
    "            \"response_format\": {\"type\": \"json_object\"},\n",
    "            \"max_tokens\": 4094,\n",
    "            \"temperature\": round(random.uniform(1, 1.5), 2),\n",
    "            \"presence_penalty\": -1,\n",
    "        },\n",
    "    }\n",
    "\n",
    "\n",
    "with open(\"statement-batch.jsonl\", \"w\") as file:\n",
    "    for i in range(0, 20):\n",
    "        data = get_dict(i, prompt)\n",
    "        file.write(json.dumps(data) + \"\\n\")"
   ]
  },
  {
   "cell_type": "markdown",
   "metadata": {},
   "source": [
    "### Upload the data to openai batch api"
   ]
  },
  {
   "cell_type": "code",
   "execution_count": 202,
   "metadata": {},
   "outputs": [],
   "source": [
    "\n",
    "batch_input_file = client.files.create(\n",
    "  file=open(\"statement-batch.jsonl\", \"rb\"),\n",
    "  purpose=\"batch\"\n",
    ")"
   ]
  },
  {
   "cell_type": "markdown",
   "metadata": {},
   "source": [
    "Create the batch job with the uploaded data"
   ]
  },
  {
   "cell_type": "code",
   "execution_count": 203,
   "metadata": {},
   "outputs": [],
   "source": [
    "# Create a batch\n",
    "statement_batch_job = client.batches.create(\n",
    "    input_file_id=batch_input_file.id,\n",
    "    endpoint=\"/v1/chat/completions\",\n",
    "    completion_window=\"24h\",\n",
    "    metadata={\"description\": \"statement generation batch\"},\n",
    ")"
   ]
  },
  {
   "cell_type": "code",
   "execution_count": 204,
   "metadata": {},
   "outputs": [
    {
     "data": {
      "text/plain": [
       "Batch(id='batch_lqMkF3rdzPka4tR5nv9bqBti', completion_window='24h', created_at=1724410986, endpoint='/v1/chat/completions', input_file_id='file-FbDI24sQLxbBhpZV6514JFDD', object='batch', status='validating', cancelled_at=None, cancelling_at=None, completed_at=None, error_file_id=None, errors=None, expired_at=None, expires_at=1724497386, failed_at=None, finalizing_at=None, in_progress_at=None, metadata={'description': 'statement generation batch'}, output_file_id=None, request_counts=BatchRequestCounts(completed=0, failed=0, total=0))"
      ]
     },
     "execution_count": 204,
     "metadata": {},
     "output_type": "execute_result"
    }
   ],
   "source": [
    "statement_batch_job"
   ]
  },
  {
   "cell_type": "code",
   "execution_count": 205,
   "metadata": {},
   "outputs": [
    {
     "name": "stdout",
     "output_type": "stream",
     "text": [
      "in_progress\n",
      "in_progress\n",
      "in_progress\n",
      "in_progress\n",
      "in_progress\n",
      "in_progress\n",
      "in_progress\n",
      "in_progress\n",
      "in_progress\n",
      "in_progress\n",
      "in_progress\n",
      "in_progress\n",
      "in_progress\n",
      "in_progress\n",
      "in_progress\n",
      "in_progress\n",
      "in_progress\n",
      "in_progress\n",
      "in_progress\n",
      "in_progress\n",
      "completed\n",
      "file-Pv0JPxiXF0aIsuifvq6I6TNP\n"
     ]
    }
   ],
   "source": [
    "while (\n",
    "    statement_batch_job.status == \"in_progress\"\n",
    "    or statement_batch_job.status == \"validating\"\n",
    "):\n",
    "    statement_batch_job = client.batches.retrieve(statement_batch_job.id)\n",
    "    print(statement_batch_job.status)\n",
    "    if statement_batch_job.status == \"failed\":\n",
    "        print(statement_batch_job.error)\n",
    "        break\n",
    "    elif statement_batch_job.status == \"completed\":\n",
    "        print(statement_batch_job.output_file_id)\n",
    "        break\n",
    "    sleep(20)"
   ]
  },
  {
   "cell_type": "code",
   "execution_count": 206,
   "metadata": {},
   "outputs": [
    {
     "name": "stdout",
     "output_type": "stream",
     "text": [
      "Batch job completed\n"
     ]
    }
   ],
   "source": [
    "if statement_batch_job.status == \"completed\":\n",
    "    print(\"Batch job completed\")\n",
    "    output_file = client.files.content(statement_batch_job.output_file_id)\n",
    "else:\n",
    "    print(\"Batch job status:\", statement_batch_job.status)"
   ]
  },
  {
   "cell_type": "code",
   "execution_count": 207,
   "metadata": {},
   "outputs": [],
   "source": [
    "with open(\"statement-batch-output.jsonl\", \"w\") as file:\n",
    "    file.write(output_file.text)"
   ]
  },
  {
   "cell_type": "code",
   "execution_count": 208,
   "metadata": {},
   "outputs": [
    {
     "name": "stdout",
     "output_type": "stream",
     "text": [
      "0 {'prompt_tokens': 277, 'completion_tokens': 903, 'total_tokens': 1180}\n",
      "1 {'prompt_tokens': 277, 'completion_tokens': 953, 'total_tokens': 1230}\n",
      "2 {'prompt_tokens': 277, 'completion_tokens': 887, 'total_tokens': 1164}\n",
      "3 {'prompt_tokens': 277, 'completion_tokens': 1655, 'total_tokens': 1932}\n",
      "4 {'prompt_tokens': 277, 'completion_tokens': 910, 'total_tokens': 1187}\n",
      "5 {'prompt_tokens': 277, 'completion_tokens': 850, 'total_tokens': 1127}\n",
      "6 {'prompt_tokens': 277, 'completion_tokens': 914, 'total_tokens': 1191}\n",
      "7 {'prompt_tokens': 277, 'completion_tokens': 925, 'total_tokens': 1202}\n",
      "8 {'prompt_tokens': 277, 'completion_tokens': 912, 'total_tokens': 1189}\n",
      "9 {'prompt_tokens': 277, 'completion_tokens': 776, 'total_tokens': 1053}\n",
      "10 {'prompt_tokens': 277, 'completion_tokens': 978, 'total_tokens': 1255}\n",
      "11 {'prompt_tokens': 277, 'completion_tokens': 822, 'total_tokens': 1099}\n",
      "12 {'prompt_tokens': 277, 'completion_tokens': 908, 'total_tokens': 1185}\n",
      "13 {'prompt_tokens': 277, 'completion_tokens': 4094, 'total_tokens': 4371}\n",
      "Expecting ':' delimiter: line 3514 column 13 (char 41100)\n",
      "14 {'prompt_tokens': 277, 'completion_tokens': 898, 'total_tokens': 1175}\n",
      "15 {'prompt_tokens': 277, 'completion_tokens': 920, 'total_tokens': 1197}\n",
      "16 {'prompt_tokens': 277, 'completion_tokens': 1025, 'total_tokens': 1302}\n",
      "17 {'prompt_tokens': 277, 'completion_tokens': 1428, 'total_tokens': 1705}\n",
      "18 {'prompt_tokens': 277, 'completion_tokens': 1548, 'total_tokens': 1825}\n",
      "19 {'prompt_tokens': 277, 'completion_tokens': 929, 'total_tokens': 1206}\n"
     ]
    }
   ],
   "source": [
    "statement_list = []\n",
    "\n",
    "with open(\"statement-batch-output.jsonl\", \"r\") as file:\n",
    "    for idx, line in enumerate(file):\n",
    "        try:\n",
    "            data = json.loads(line)\n",
    "            print(idx, data[\"response\"][\"body\"][\"usage\"])\n",
    "            statement: str = data[\"response\"][\"body\"][\"choices\"][0][\"message\"][\"content\"]\n",
    "            # print(json.loads(statement)[\"statements\"])\n",
    "            statement_list.extend(json.loads(statement)[\"statements\"])\n",
    "        except Exception as e:\n",
    "            print(e)\n",
    "\n",
    "\n",
    "df = pd.DataFrame(statement_list, columns=[\"statement\"])\n",
    "df.drop_duplicates(inplace=True)\n",
    "df.to_csv(\"statement-batch-output-2.csv\", index=False)"
   ]
  },
  {
   "cell_type": "code",
   "execution_count": null,
   "metadata": {},
   "outputs": [],
   "source": []
  }
 ],
 "metadata": {
  "kernelspec": {
   "display_name": ".venv",
   "language": "python",
   "name": "python3"
  },
  "language_info": {
   "codemirror_mode": {
    "name": "ipython",
    "version": 3
   },
   "file_extension": ".py",
   "mimetype": "text/x-python",
   "name": "python",
   "nbconvert_exporter": "python",
   "pygments_lexer": "ipython3",
   "version": "3.12.4"
  }
 },
 "nbformat": 4,
 "nbformat_minor": 2
}
