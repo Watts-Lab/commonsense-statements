{
 "cells": [
  {
   "cell_type": "markdown",
   "metadata": {},
   "source": [
    "# Commonsense statements cleaning & preprocessing"
   ]
  },
  {
   "cell_type": "markdown",
   "metadata": {},
   "source": [
    "## Libraries and setup\n",
    "\n",
    "run the following cell to import the necessary libraries and set up the environment.\n"
   ]
  },
  {
   "cell_type": "code",
   "execution_count": 1,
   "metadata": {},
   "outputs": [
    {
     "name": "stderr",
     "output_type": "stream",
     "text": [
      "/Library/Frameworks/Python.framework/Versions/3.9/lib/python3.9/site-packages/scipy/__init__.py:146: UserWarning: A NumPy version >=1.16.5 and <1.23.0 is required for this version of SciPy (detected version 1.26.0\n",
      "  warnings.warn(f\"A NumPy version >={np_minversion} and <{np_maxversion}\"\n"
     ]
    }
   ],
   "source": [
    "# Data Processing\n",
    "import pandas as pd\n",
    "import numpy as np\n",
    "import os\n",
    "import openai\n",
    "import csv\n",
    "\n",
    "\n",
    "# Modelling\n",
    "from sklearn.ensemble import RandomForestClassifier\n",
    "from sklearn.metrics import accuracy_score, confusion_matrix, precision_score, recall_score, ConfusionMatrixDisplay\n",
    "from sklearn.model_selection import RandomizedSearchCV, train_test_split\n",
    "from scipy.stats import randint\n",
    "\n",
    "# Tree Visualisation\n",
    "from sklearn.tree import export_graphviz\n",
    "from IPython.display import Image\n",
    "import graphviz\n",
    "\n",
    "\n",
    "openai.organization = os.getenv(\"OPENAI_ORGANIZATION\")\n",
    "openai.api_key = os.getenv(\"OPENAI_API_KEY\")"
   ]
  },
  {
   "cell_type": "markdown",
   "metadata": {},
   "source": [
    "## Looking into data and preprocessing\n",
    "\n",
    "we will import the cleaned statements and look into the data. We will also preprocess the data to make it ready for the model."
   ]
  },
  {
   "cell_type": "code",
   "execution_count": 14,
   "metadata": {},
   "outputs": [],
   "source": [
    "cleaned_statements_df = pd.read_csv('statements.csv')\n",
    "statement_properties_df = pd.read_csv('statement_properties.csv')"
   ]
  },
  {
   "cell_type": "markdown",
   "metadata": {},
   "source": [
    "## Getting the embeddings for the fixed statements via OpenAI API"
   ]
  },
  {
   "cell_type": "markdown",
   "metadata": {},
   "source": [
    "Run the first cell to get the embeddings from openAI API. This will take a while (roughly 20 minutes). The embeddings will be saved in the embedded_statements."
   ]
  },
  {
   "cell_type": "code",
   "execution_count": null,
   "metadata": {},
   "outputs": [],
   "source": [
    "def get_embedding(text, model=\"text-embedding-ada-002\"):\n",
    "   text = text.replace(\"\\n\", \" \")\n",
    "   return openai.Embedding.create(input = [text], model=model)['data'][0]['embedding']\n",
    "\n",
    "\n",
    "cleaned_statements_df['embeddings'] = cleaned_statements_df['fixed statement'].apply(lambda x: get_embedding(x, model='text-embedding-ada-002'))\n",
    "cleaned_statements_df.to_pickle('embedded_statements.pkl')"
   ]
  },
  {
   "cell_type": "code",
   "execution_count": 38,
   "metadata": {},
   "outputs": [],
   "source": [
    "cleaned_statements_df.to_pickle('embedded_statements.pkl')"
   ]
  },
  {
   "cell_type": "code",
   "execution_count": 22,
   "metadata": {},
   "outputs": [],
   "source": [
    "embedded_statements = pd.read_pickle('embedded_statements.pkl')"
   ]
  },
  {
   "cell_type": "code",
   "execution_count": 25,
   "metadata": {},
   "outputs": [
    {
     "data": {
      "text/html": [
       "<div>\n",
       "<style scoped>\n",
       "    .dataframe tbody tr th:only-of-type {\n",
       "        vertical-align: middle;\n",
       "    }\n",
       "\n",
       "    .dataframe tbody tr th {\n",
       "        vertical-align: top;\n",
       "    }\n",
       "\n",
       "    .dataframe thead th {\n",
       "        text-align: right;\n",
       "    }\n",
       "</style>\n",
       "<table border=\"1\" class=\"dataframe\">\n",
       "  <thead>\n",
       "    <tr style=\"text-align: right;\">\n",
       "      <th></th>\n",
       "      <th>statement_number</th>\n",
       "      <th>statement_x</th>\n",
       "      <th>behavior</th>\n",
       "      <th>everyday</th>\n",
       "      <th>figure_of_speech</th>\n",
       "      <th>judgment</th>\n",
       "      <th>opinion</th>\n",
       "      <th>reasoning</th>\n",
       "      <th>category</th>\n",
       "      <th>elicitation</th>\n",
       "      <th>statement_y</th>\n",
       "      <th>fixed statement</th>\n",
       "      <th>embeddings</th>\n",
       "    </tr>\n",
       "  </thead>\n",
       "  <tbody>\n",
       "    <tr>\n",
       "      <th>0</th>\n",
       "      <td>1</td>\n",
       "      <td>1 plus 1 is 2</td>\n",
       "      <td>0</td>\n",
       "      <td>1</td>\n",
       "      <td>0</td>\n",
       "      <td>0</td>\n",
       "      <td>0</td>\n",
       "      <td>1</td>\n",
       "      <td>Mathematics and logic</td>\n",
       "      <td>category response</td>\n",
       "      <td>1 plus 1 is 2</td>\n",
       "      <td>1 plus 1 equals 2.</td>\n",
       "      <td>[0.030699048191308975, -0.004340122453868389, ...</td>\n",
       "    </tr>\n",
       "    <tr>\n",
       "      <th>1</th>\n",
       "      <td>2</td>\n",
       "      <td>5 is alot bigger than 1</td>\n",
       "      <td>0</td>\n",
       "      <td>0</td>\n",
       "      <td>0</td>\n",
       "      <td>0</td>\n",
       "      <td>0</td>\n",
       "      <td>0</td>\n",
       "      <td>Mathematics and logic</td>\n",
       "      <td>category response</td>\n",
       "      <td>5 is alot bigger than 1</td>\n",
       "      <td>5 is significantly larger than 1.</td>\n",
       "      <td>[-9.334934293292463e-05, 0.013633872382342815,...</td>\n",
       "    </tr>\n",
       "    <tr>\n",
       "      <th>2</th>\n",
       "      <td>3</td>\n",
       "      <td>a balanced diet and regular exercise is needed...</td>\n",
       "      <td>1</td>\n",
       "      <td>1</td>\n",
       "      <td>0</td>\n",
       "      <td>1</td>\n",
       "      <td>0</td>\n",
       "      <td>1</td>\n",
       "      <td>Health and fitness</td>\n",
       "      <td>category response</td>\n",
       "      <td>a balanced diet and regular exercise is needed...</td>\n",
       "      <td>To maintain good health, one needs a balanced ...</td>\n",
       "      <td>[0.011176474392414093, 0.004732023924589157, 0...</td>\n",
       "    </tr>\n",
       "    <tr>\n",
       "      <th>3</th>\n",
       "      <td>4</td>\n",
       "      <td>a ball is round</td>\n",
       "      <td>0</td>\n",
       "      <td>1</td>\n",
       "      <td>0</td>\n",
       "      <td>0</td>\n",
       "      <td>0</td>\n",
       "      <td>0</td>\n",
       "      <td>Natural and physical sciences</td>\n",
       "      <td>Concept Net</td>\n",
       "      <td>a ball is round</td>\n",
       "      <td>A ball is round.</td>\n",
       "      <td>[-0.004082511644810438, -6.48864806862548e-05,...</td>\n",
       "    </tr>\n",
       "    <tr>\n",
       "      <th>4</th>\n",
       "      <td>5</td>\n",
       "      <td>a baton twirler doesn't want a broken finger</td>\n",
       "      <td>0</td>\n",
       "      <td>1</td>\n",
       "      <td>0</td>\n",
       "      <td>1</td>\n",
       "      <td>1</td>\n",
       "      <td>0</td>\n",
       "      <td>Human activities</td>\n",
       "      <td>Concept Net</td>\n",
       "      <td>a baton twirler doesn't want a broken finger</td>\n",
       "      <td>A baton twirler wouldn't want to suffer a brok...</td>\n",
       "      <td>[-0.02298557199537754, 0.006573873572051525, 0...</td>\n",
       "    </tr>\n",
       "  </tbody>\n",
       "</table>\n",
       "</div>"
      ],
      "text/plain": [
       "   statement_number                                        statement_x  \\\n",
       "0                 1                                      1 plus 1 is 2   \n",
       "1                 2                            5 is alot bigger than 1   \n",
       "2                 3  a balanced diet and regular exercise is needed...   \n",
       "3                 4                                    a ball is round   \n",
       "4                 5       a baton twirler doesn't want a broken finger   \n",
       "\n",
       "   behavior  everyday  figure_of_speech  judgment  opinion  reasoning  \\\n",
       "0         0         1                 0         0        0          1   \n",
       "1         0         0                 0         0        0          0   \n",
       "2         1         1                 0         1        0          1   \n",
       "3         0         1                 0         0        0          0   \n",
       "4         0         1                 0         1        1          0   \n",
       "\n",
       "                        category        elicitation  \\\n",
       "0          Mathematics and logic  category response   \n",
       "1          Mathematics and logic  category response   \n",
       "2             Health and fitness  category response   \n",
       "3  Natural and physical sciences        Concept Net   \n",
       "4               Human activities        Concept Net   \n",
       "\n",
       "                                         statement_y  \\\n",
       "0                                      1 plus 1 is 2   \n",
       "1                            5 is alot bigger than 1   \n",
       "2  a balanced diet and regular exercise is needed...   \n",
       "3                                    a ball is round   \n",
       "4       a baton twirler doesn't want a broken finger   \n",
       "\n",
       "                                     fixed statement  \\\n",
       "0                                 1 plus 1 equals 2.   \n",
       "1                  5 is significantly larger than 1.   \n",
       "2  To maintain good health, one needs a balanced ...   \n",
       "3                                   A ball is round.   \n",
       "4  A baton twirler wouldn't want to suffer a brok...   \n",
       "\n",
       "                                          embeddings  \n",
       "0  [0.030699048191308975, -0.004340122453868389, ...  \n",
       "1  [-9.334934293292463e-05, 0.013633872382342815,...  \n",
       "2  [0.011176474392414093, 0.004732023924589157, 0...  \n",
       "3  [-0.004082511644810438, -6.48864806862548e-05,...  \n",
       "4  [-0.02298557199537754, 0.006573873572051525, 0...  "
      ]
     },
     "execution_count": 25,
     "metadata": {},
     "output_type": "execute_result"
    }
   ],
   "source": [
    "merged_df = statement_properties_df.merge(embedded_statements, left_index=True, right_index=True)\n",
    "merged_df.head(5)"
   ]
  },
  {
   "cell_type": "code",
   "execution_count": 35,
   "metadata": {},
   "outputs": [
    {
     "data": {
      "text/plain": [
       "array([ 0.03069905, -0.00434012, -0.00222734, ..., -0.00375783,\n",
       "       -0.00634472, -0.04861955])"
      ]
     },
     "execution_count": 35,
     "metadata": {},
     "output_type": "execute_result"
    }
   ],
   "source": [
    "arr = merged_df.embeddings[0].strip('[]').split(',')\n",
    "\n",
    "np.array([(item) for item in arr])"
   ]
  },
  {
   "cell_type": "code",
   "execution_count": null,
   "metadata": {},
   "outputs": [],
   "source": []
  }
 ],
 "metadata": {
  "kernelspec": {
   "display_name": "Python 3",
   "language": "python",
   "name": "python3"
  },
  "language_info": {
   "codemirror_mode": {
    "name": "ipython",
    "version": 3
   },
   "file_extension": ".py",
   "mimetype": "text/x-python",
   "name": "python",
   "nbconvert_exporter": "python",
   "pygments_lexer": "ipython3",
   "version": "3.9.7"
  }
 },
 "nbformat": 4,
 "nbformat_minor": 2
}
